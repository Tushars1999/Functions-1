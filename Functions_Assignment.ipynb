{
  "nbformat": 4,
  "nbformat_minor": 0,
  "metadata": {
    "colab": {
      "provenance": []
    },
    "kernelspec": {
      "name": "python3",
      "display_name": "Python 3"
    },
    "language_info": {
      "name": "python"
    }
  },
  "cells": [
    {
      "cell_type": "code",
      "source": [],
      "metadata": {
        "id": "79JKi4I8-uc0"
      },
      "execution_count": null,
      "outputs": []
    },
    {
      "cell_type": "markdown",
      "source": [
        "## **Functions Assignment**\n"
      ],
      "metadata": {
        "id": "kJVXpyUD-gPy"
      }
    },
    {
      "cell_type": "code",
      "source": [
        "1. What is the difference between a function and a method in Python?\n",
        "Function: A block of reusable code, defined using def, that can be called independently.\n",
        "\n",
        "Method: A function that is associated with an object and called using dot (.) notation.\n",
        "\n",
        "2. Explain the concept of function arguments and parameters in Python.\n",
        "Parameters: Variables listed in the function definition.\n",
        "\n",
        "Arguments: Actual values passed when calling the function\n",
        "\n",
        "3. What are the different ways to define and call a function in Python?\n",
        "\n",
        " Define using def or lambda\n",
        "\n",
        "Call using function name with () and pass required arguments\n",
        "\n",
        "4. What is the purpose of the return statement in a Python function?\n",
        "It exits the function and sends back a value.\n",
        "\n",
        "5. What are iterators in Python and how do they differ from iterables?\n",
        "Iterable: Object that can return an iterator (list, str, etc.)\n",
        "\n",
        "Iterator: Object with __iter__() and __next__() methods\n",
        "\n",
        "6. Explain the concept of generators in Python and how they are defined.\n",
        "Generators yield values one at a time using yield, maintaining state between calls.\n",
        "\n",
        "7. What are the advantages of using generators over regular functions?\n",
        "Memory efficient\n",
        "\n",
        "Lazy evaluation\n",
        "\n",
        "Ideal for large datasets or streams\n",
        "\n",
        "8. What is a lambda function in Python and when is it typically used?\n",
        "Anonymous, single-expression function defined using lambda\n",
        "square = lambda x: x * x\n",
        "print(square(5))\n",
        "\n",
        "9. Explain the purpose and usage of the map() function in Python.\n",
        "Applies a function to each element of an iterable.\n",
        "nums = [1, 2, 3]\n",
        "squared = list(map(lambda x: x*x, nums))\n",
        "\n",
        "10. What is the difference between map(), reduce(), and filter()?\n",
        "map(): Transforms elements.\n",
        "\n",
        "filter(): Selects elements based on a condition.\n",
        "\n",
        "reduce(): Reduces a sequence to a single value (from functools).\n",
        "\n",
        "11. Internal mechanism using reduce on [47,11,42,13]\n",
        "from functools import reduce\n",
        "\n",
        "nums = [47, 11, 42, 13]\n",
        "result = reduce(lambda x, y: x + y, nums)\n",
        "\n",
        "Steps:\n",
        "\n",
        "Step 1: 47 + 11 = 58\n",
        "\n",
        "Step 2: 58 + 42 = 100\n",
        "\n",
        "Step 3: 100 + 13 = 113\n"
      ],
      "metadata": {
        "id": "dQVSqZ4--wid"
      },
      "execution_count": null,
      "outputs": []
    },
    {
      "cell_type": "markdown",
      "source": [
        "## **Practical Questions**"
      ],
      "metadata": {
        "id": "Y0nwaZH2BXBq"
      }
    },
    {
      "cell_type": "code",
      "source": [
        "#1. Write a Python function that takes a list of numbers as input and returns the sum of all even numbers in the list.\n",
        "\n",
        "def sum_even(nums):\n",
        "  return sum(x for x in nums if x % 2 == 0)\n",
        "\n",
        "numbers = [10, 15, 10, 25, 30]\n",
        "result = sum_even(numbers)\n",
        "print(result)\n"
      ],
      "metadata": {
        "colab": {
          "base_uri": "https://localhost:8080/"
        },
        "id": "RQw-9KQgBdwp",
        "outputId": "d459f9f6-6194-4756-bce2-13e3a6f502aa"
      },
      "execution_count": null,
      "outputs": [
        {
          "output_type": "stream",
          "name": "stdout",
          "text": [
            "50\n"
          ]
        }
      ]
    },
    {
      "cell_type": "code",
      "source": [
        "#2. Create a Python function that accepts a string and returns the reverse of that string.\n",
        "\n",
        "def reverse_string(string):\n",
        "  return string[::-1]\n",
        "\n",
        "string = \"hello\"\n",
        "result = reverse_string(string)\n",
        "print(result)\n",
        "\n",
        "\n"
      ],
      "metadata": {
        "colab": {
          "base_uri": "https://localhost:8080/"
        },
        "id": "hH6CNqK2CNgP",
        "outputId": "d8eaab70-94c9-4846-967a-d7e9469bf47e"
      },
      "execution_count": null,
      "outputs": [
        {
          "output_type": "stream",
          "name": "stdout",
          "text": [
            "olleh\n"
          ]
        }
      ]
    },
    {
      "cell_type": "code",
      "source": [
        "#3.  Implement a Python function that takes a list of integers and returns a new list containing the squares of each number\n",
        "\n",
        "\n",
        "def square_numbers(nums):\n",
        "  return [x ** 2 for x in nums]\n",
        "\n",
        "number = [2, 3, 4, 5]\n",
        "result = square_numbers(number)\n",
        "print(result)"
      ],
      "metadata": {
        "id": "T8_JxT1tEgp6",
        "colab": {
          "base_uri": "https://localhost:8080/"
        },
        "outputId": "a129dd0e-f572-45ae-939d-cb87467a520e"
      },
      "execution_count": null,
      "outputs": [
        {
          "output_type": "stream",
          "name": "stdout",
          "text": [
            "[4, 9, 16, 25]\n"
          ]
        }
      ]
    },
    {
      "cell_type": "code",
      "source": [
        "#4.  Write a Python function that checks if a given number is prime or not from 1 to 200.\n",
        "def is_prime(n):\n",
        "    if n <= 1:\n",
        "        return False\n",
        "    for i in range(2, int(n**0.5) + 1):\n",
        "        if n % i == 0:\n",
        "            return False\n",
        "    return True\n",
        "\n",
        "for num in range(1, 201):\n",
        "    if is_prime(num):\n",
        "        print(f\"{num} is a Prime number\")\n",
        "    else:\n",
        "        print(f\"{num} is Not a Prime number\")\n"
      ],
      "metadata": {
        "id": "w496iordKCKf",
        "colab": {
          "base_uri": "https://localhost:8080/"
        },
        "outputId": "548d5e65-0cc5-455e-b39f-3b3a4442c7e8"
      },
      "execution_count": 1,
      "outputs": [
        {
          "output_type": "stream",
          "name": "stdout",
          "text": [
            "1 is Not a Prime number\n",
            "2 is a Prime number\n",
            "3 is a Prime number\n",
            "4 is Not a Prime number\n",
            "5 is a Prime number\n",
            "6 is Not a Prime number\n",
            "7 is a Prime number\n",
            "8 is Not a Prime number\n",
            "9 is Not a Prime number\n",
            "10 is Not a Prime number\n",
            "11 is a Prime number\n",
            "12 is Not a Prime number\n",
            "13 is a Prime number\n",
            "14 is Not a Prime number\n",
            "15 is Not a Prime number\n",
            "16 is Not a Prime number\n",
            "17 is a Prime number\n",
            "18 is Not a Prime number\n",
            "19 is a Prime number\n",
            "20 is Not a Prime number\n",
            "21 is Not a Prime number\n",
            "22 is Not a Prime number\n",
            "23 is a Prime number\n",
            "24 is Not a Prime number\n",
            "25 is Not a Prime number\n",
            "26 is Not a Prime number\n",
            "27 is Not a Prime number\n",
            "28 is Not a Prime number\n",
            "29 is a Prime number\n",
            "30 is Not a Prime number\n",
            "31 is a Prime number\n",
            "32 is Not a Prime number\n",
            "33 is Not a Prime number\n",
            "34 is Not a Prime number\n",
            "35 is Not a Prime number\n",
            "36 is Not a Prime number\n",
            "37 is a Prime number\n",
            "38 is Not a Prime number\n",
            "39 is Not a Prime number\n",
            "40 is Not a Prime number\n",
            "41 is a Prime number\n",
            "42 is Not a Prime number\n",
            "43 is a Prime number\n",
            "44 is Not a Prime number\n",
            "45 is Not a Prime number\n",
            "46 is Not a Prime number\n",
            "47 is a Prime number\n",
            "48 is Not a Prime number\n",
            "49 is Not a Prime number\n",
            "50 is Not a Prime number\n",
            "51 is Not a Prime number\n",
            "52 is Not a Prime number\n",
            "53 is a Prime number\n",
            "54 is Not a Prime number\n",
            "55 is Not a Prime number\n",
            "56 is Not a Prime number\n",
            "57 is Not a Prime number\n",
            "58 is Not a Prime number\n",
            "59 is a Prime number\n",
            "60 is Not a Prime number\n",
            "61 is a Prime number\n",
            "62 is Not a Prime number\n",
            "63 is Not a Prime number\n",
            "64 is Not a Prime number\n",
            "65 is Not a Prime number\n",
            "66 is Not a Prime number\n",
            "67 is a Prime number\n",
            "68 is Not a Prime number\n",
            "69 is Not a Prime number\n",
            "70 is Not a Prime number\n",
            "71 is a Prime number\n",
            "72 is Not a Prime number\n",
            "73 is a Prime number\n",
            "74 is Not a Prime number\n",
            "75 is Not a Prime number\n",
            "76 is Not a Prime number\n",
            "77 is Not a Prime number\n",
            "78 is Not a Prime number\n",
            "79 is a Prime number\n",
            "80 is Not a Prime number\n",
            "81 is Not a Prime number\n",
            "82 is Not a Prime number\n",
            "83 is a Prime number\n",
            "84 is Not a Prime number\n",
            "85 is Not a Prime number\n",
            "86 is Not a Prime number\n",
            "87 is Not a Prime number\n",
            "88 is Not a Prime number\n",
            "89 is a Prime number\n",
            "90 is Not a Prime number\n",
            "91 is Not a Prime number\n",
            "92 is Not a Prime number\n",
            "93 is Not a Prime number\n",
            "94 is Not a Prime number\n",
            "95 is Not a Prime number\n",
            "96 is Not a Prime number\n",
            "97 is a Prime number\n",
            "98 is Not a Prime number\n",
            "99 is Not a Prime number\n",
            "100 is Not a Prime number\n",
            "101 is a Prime number\n",
            "102 is Not a Prime number\n",
            "103 is a Prime number\n",
            "104 is Not a Prime number\n",
            "105 is Not a Prime number\n",
            "106 is Not a Prime number\n",
            "107 is a Prime number\n",
            "108 is Not a Prime number\n",
            "109 is a Prime number\n",
            "110 is Not a Prime number\n",
            "111 is Not a Prime number\n",
            "112 is Not a Prime number\n",
            "113 is a Prime number\n",
            "114 is Not a Prime number\n",
            "115 is Not a Prime number\n",
            "116 is Not a Prime number\n",
            "117 is Not a Prime number\n",
            "118 is Not a Prime number\n",
            "119 is Not a Prime number\n",
            "120 is Not a Prime number\n",
            "121 is Not a Prime number\n",
            "122 is Not a Prime number\n",
            "123 is Not a Prime number\n",
            "124 is Not a Prime number\n",
            "125 is Not a Prime number\n",
            "126 is Not a Prime number\n",
            "127 is a Prime number\n",
            "128 is Not a Prime number\n",
            "129 is Not a Prime number\n",
            "130 is Not a Prime number\n",
            "131 is a Prime number\n",
            "132 is Not a Prime number\n",
            "133 is Not a Prime number\n",
            "134 is Not a Prime number\n",
            "135 is Not a Prime number\n",
            "136 is Not a Prime number\n",
            "137 is a Prime number\n",
            "138 is Not a Prime number\n",
            "139 is a Prime number\n",
            "140 is Not a Prime number\n",
            "141 is Not a Prime number\n",
            "142 is Not a Prime number\n",
            "143 is Not a Prime number\n",
            "144 is Not a Prime number\n",
            "145 is Not a Prime number\n",
            "146 is Not a Prime number\n",
            "147 is Not a Prime number\n",
            "148 is Not a Prime number\n",
            "149 is a Prime number\n",
            "150 is Not a Prime number\n",
            "151 is a Prime number\n",
            "152 is Not a Prime number\n",
            "153 is Not a Prime number\n",
            "154 is Not a Prime number\n",
            "155 is Not a Prime number\n",
            "156 is Not a Prime number\n",
            "157 is a Prime number\n",
            "158 is Not a Prime number\n",
            "159 is Not a Prime number\n",
            "160 is Not a Prime number\n",
            "161 is Not a Prime number\n",
            "162 is Not a Prime number\n",
            "163 is a Prime number\n",
            "164 is Not a Prime number\n",
            "165 is Not a Prime number\n",
            "166 is Not a Prime number\n",
            "167 is a Prime number\n",
            "168 is Not a Prime number\n",
            "169 is Not a Prime number\n",
            "170 is Not a Prime number\n",
            "171 is Not a Prime number\n",
            "172 is Not a Prime number\n",
            "173 is a Prime number\n",
            "174 is Not a Prime number\n",
            "175 is Not a Prime number\n",
            "176 is Not a Prime number\n",
            "177 is Not a Prime number\n",
            "178 is Not a Prime number\n",
            "179 is a Prime number\n",
            "180 is Not a Prime number\n",
            "181 is a Prime number\n",
            "182 is Not a Prime number\n",
            "183 is Not a Prime number\n",
            "184 is Not a Prime number\n",
            "185 is Not a Prime number\n",
            "186 is Not a Prime number\n",
            "187 is Not a Prime number\n",
            "188 is Not a Prime number\n",
            "189 is Not a Prime number\n",
            "190 is Not a Prime number\n",
            "191 is a Prime number\n",
            "192 is Not a Prime number\n",
            "193 is a Prime number\n",
            "194 is Not a Prime number\n",
            "195 is Not a Prime number\n",
            "196 is Not a Prime number\n",
            "197 is a Prime number\n",
            "198 is Not a Prime number\n",
            "199 is a Prime number\n",
            "200 is Not a Prime number\n"
          ]
        }
      ]
    },
    {
      "cell_type": "code",
      "source": [
        "# 5. Create an iterator class in Python that generates the Fibonacci sequence up to a specified number of terms.\n",
        "\n",
        "class FibonacciIterator:\n",
        "    def __init__(self, max_terms):\n",
        "        self.max_terms = max_terms\n",
        "        self.count = 0\n",
        "        self.a = 0\n",
        "        self.b = 1\n",
        "\n",
        "    def __iter__(self):\n",
        "        return self\n",
        "\n",
        "    def __next__(self):\n",
        "        if self.count >= self.max_terms:\n",
        "            raise StopIteration\n",
        "        if self.count == 0:\n",
        "            self.count += 1\n",
        "            return self.a\n",
        "        elif self.count == 1:\n",
        "            self.count += 1\n",
        "            return self.b\n",
        "        else:\n",
        "            self.a, self.b = self.b, self.a + self.b\n",
        "            self.count += 1\n",
        "            return self.b\n",
        "\n",
        "\n",
        "fib = FibonacciIterator(10)\n",
        "for num in fib:\n",
        "    print(num)\n"
      ],
      "metadata": {
        "colab": {
          "base_uri": "https://localhost:8080/"
        },
        "id": "3cE6ciaAKkYk",
        "outputId": "2e77de72-a21f-4145-c42c-1b693277edd4"
      },
      "execution_count": 2,
      "outputs": [
        {
          "output_type": "stream",
          "name": "stdout",
          "text": [
            "0\n",
            "1\n",
            "1\n",
            "2\n",
            "3\n",
            "5\n",
            "8\n",
            "13\n",
            "21\n",
            "34\n"
          ]
        }
      ]
    },
    {
      "cell_type": "code",
      "source": [
        "#6.  Write a generator function in Python that yields the powers of 2 up to a given exponent.\n",
        "def powers_of_two(max_exponent):\n",
        "    for exponent in range(max_exponent + 1):\n",
        "        yield 2 ** exponent\n",
        "\n",
        "for power in powers_of_two(5):\n",
        "    print(power)\n"
      ],
      "metadata": {
        "colab": {
          "base_uri": "https://localhost:8080/"
        },
        "id": "j47ecYxKLRno",
        "outputId": "113c06d6-a01f-421a-c60e-ef61828ed72f"
      },
      "execution_count": 3,
      "outputs": [
        {
          "output_type": "stream",
          "name": "stdout",
          "text": [
            "1\n",
            "2\n",
            "4\n",
            "8\n",
            "16\n",
            "32\n"
          ]
        }
      ]
    },
    {
      "cell_type": "code",
      "source": [
        "#7.  Implement a generator function that reads a file line by line and yields each line as a string.\n",
        "\n",
        "def read_file_line_by_line(file_path):\n",
        "    with open(file_path, 'r') as file:\n",
        "        for line in file:\n",
        "            yield line.rstrip('\\n')\n"
      ],
      "metadata": {
        "id": "-jIIPNPxLbTU"
      },
      "execution_count": 4,
      "outputs": []
    },
    {
      "cell_type": "code",
      "source": [
        "#8. Use a lambda function in Python to sort a list of tuples based on the second element of each tuple.\n",
        "\n",
        "data = [(1, 5), (3, 2), (4, 8), (2, 1)]\n",
        "\n",
        "sorted_data = sorted(data, key=lambda x: x[1])\n",
        "\n",
        "print(sorted_data)\n"
      ],
      "metadata": {
        "colab": {
          "base_uri": "https://localhost:8080/"
        },
        "id": "G763qE94LsZ7",
        "outputId": "36bc8720-f7c8-4cba-b092-8edfb643a754"
      },
      "execution_count": 5,
      "outputs": [
        {
          "output_type": "stream",
          "name": "stdout",
          "text": [
            "[(2, 1), (3, 2), (1, 5), (4, 8)]\n"
          ]
        }
      ]
    },
    {
      "cell_type": "code",
      "source": [
        "#9.  Write a Python program that uses `map()` to convert a list of temperatures from Celsius to Fahrenheit.\n",
        "\n",
        "celsius = [0, 20, 37, 100]\n",
        "\n",
        "fahrenheit = list(map(lambda c: (c * 9/5) + 32, celsius))\n",
        "\n",
        "print(\"Celsius:\", celsius)\n",
        "print(\"Fahrenheit:\", fahrenheit)\n"
      ],
      "metadata": {
        "colab": {
          "base_uri": "https://localhost:8080/"
        },
        "id": "OacBrxZ1MA8g",
        "outputId": "cd0da1ce-23d2-4b8c-aef8-d89a6f94596b"
      },
      "execution_count": 6,
      "outputs": [
        {
          "output_type": "stream",
          "name": "stdout",
          "text": [
            "Celsius: [0, 20, 37, 100]\n",
            "Fahrenheit: [32.0, 68.0, 98.6, 212.0]\n"
          ]
        }
      ]
    },
    {
      "cell_type": "code",
      "source": [
        "#10. Create a Python program that uses `filter()` to remove all the vowels from a given string.\n",
        "def remove_vowels(input_str):\n",
        "    vowels = 'aeiouAEIOU'\n",
        "    return ''.join(filter(lambda char: char not in vowels, input_str))\n",
        "\n",
        "# Example usage\n",
        "text = \"Hello, World!\"\n",
        "result = remove_vowels(text)\n",
        "print(\"Original:\", text)\n",
        "print(\"Without vowels:\", result)\n",
        "\n",
        "\n"
      ],
      "metadata": {
        "colab": {
          "base_uri": "https://localhost:8080/"
        },
        "id": "a5g17MOHMLzl",
        "outputId": "ac14b722-64af-456b-d1e6-6eef2bf93ad3"
      },
      "execution_count": 7,
      "outputs": [
        {
          "output_type": "stream",
          "name": "stdout",
          "text": [
            "Original: Hello, World!\n",
            "Without vowels: Hll, Wrld!\n"
          ]
        }
      ]
    },
    {
      "cell_type": "code",
      "source": [],
      "metadata": {
        "id": "74-hrTybMbuq"
      },
      "execution_count": null,
      "outputs": []
    }
  ]
}